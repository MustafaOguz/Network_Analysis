{
 "cells": [
  {
   "cell_type": "markdown",
   "metadata": {},
   "source": [
    "This notebook includes an analysis of the network of institutions who have participated in Horizon2020 programme projects that have started in 2015 or 2016. Projects that fall into the Call categories H2020-ICT-2014-2, H2020-ICT-2014-1, H2020-ICT-2015 are included in the analysis. "
   ]
  },
  {
   "cell_type": "markdown",
   "metadata": {},
   "source": [
    "First, import the necessary libraries."
   ]
  },
  {
   "cell_type": "code",
   "execution_count": 64,
   "metadata": {
    "collapsed": false
   },
   "outputs": [],
   "source": [
    "#%matplotlib inline\n",
    "%matplotlib inline\n",
    "#make integer division give a floating point number\n",
    "from __future__ import division\n",
    "#Set working directory\n",
    "import os as osvariable\n",
    "osvariable.chdir(\"C:/Users/Mustafa/Desktop/datamining/Horizon2020\")\n",
    "import numpy as np\n",
    "import pandas as pd\n",
    "from pandas import read_csv\n",
    "#Import plotting library\n",
    "import matplotlib.pyplot as plt\n",
    "from sklearn import linear_model\n",
    "from collections import defaultdict\n",
    "from scipy.stats import t"
   ]
  },
  {
   "cell_type": "markdown",
   "metadata": {},
   "source": [
    "Read the data file. "
   ]
  },
  {
   "cell_type": "code",
   "execution_count": 13,
   "metadata": {
    "collapsed": false
   },
   "outputs": [
    {
     "name": "stdout",
     "output_type": "stream",
     "text": [
      "   reference                                        coordinator  \\\n",
      "0     645149                                     SafeTRANS e.V.   \n",
      "1     644090  COMMISSARIAT A L ENERGIE ATOMIQUE ET AUX ENERG...   \n",
      "2     688127  THE PROVOST, FELLOWS, FOUNDATION SCHOLARS & TH...   \n",
      "3     687772                                      ATOS SPAIN SA   \n",
      "4     687780                                   INMARK EUROPA SA   \n",
      "\n",
      "                                        participants  \n",
      "0  AIT Austrian Institute of Technology GmbH;KUNG...  \n",
      "1  THE CONNECTED DIGITAL ECONOMY CATAPULT LIMITED...  \n",
      "2  TRACOIN QUALITY BV;TRILATERAL RESEARCH & CONSU...  \n",
      "3  ETHNIKO KENTRO EREVNAS KAI TECHNOLOGIKIS ANAPT...  \n",
      "4  WATERFORD INSTITUTE OF TECHNOLOGY;HEWLETT PACK...  \n"
     ]
    }
   ],
   "source": [
    "#Read the raw data file\n",
    "projects_institutions = read_csv('projects-institutions.csv')\n",
    "\n",
    "#Take a look at the first 5 observations\n",
    "print(projects_institutions.head())"
   ]
  },
  {
   "cell_type": "markdown",
   "metadata": {},
   "source": [
    "Participants are all in one field, separated by semicolon. \n",
    "We will create a dictionary with the coordinator as the key \n",
    "and the participants as the dictionary values."
   ]
  },
  {
   "cell_type": "code",
   "execution_count": 14,
   "metadata": {
    "collapsed": false
   },
   "outputs": [],
   "source": [
    "coordinators_participants = defaultdict(list)\n",
    "#Create the set of institutions. The set keeps only one\n",
    "#instance of each project\n",
    "institutions = set()\n",
    "for i in xrange(len(projects_institutions)):\n",
    "    #Get the participants of project i. The institution names are \n",
    "    #separated by semi-columns\n",
    "    current_participant_list = projects_institutions.loc[i]['participants'].split(';')\n",
    "    #In the dictionary, create a key using the reference number of the project \n",
    "    #and append the project coordinator as the first value \n",
    "    coordinators_participants[projects_institutions.loc[i]['reference']].append(projects_institutions.loc[i]['coordinator'])\n",
    "    #Add all participants (not the coordinator) to the dictionary    \n",
    "    for j in xrange(len(current_participant_list)):\n",
    "        coordinators_participants[projects_institutions.loc[i]['reference']].append(current_participant_list[j])\n",
    "    #Add the coordinator and the participants to the set of projects \n",
    "    institutions.add(projects_institutions.loc[i]['coordinator'])\n",
    "    institutions.update(current_participant_list)"
   ]
  },
  {
   "cell_type": "markdown",
   "metadata": {},
   "source": [
    "Get the list of institutions."
   ]
  },
  {
   "cell_type": "code",
   "execution_count": 15,
   "metadata": {
    "collapsed": false
   },
   "outputs": [
    {
     "name": "stdout",
     "output_type": "stream",
     "text": [
      "Number of institutions: 1908\n",
      "Number of projects: 384\n"
     ]
    }
   ],
   "source": [
    "#Convert the project set to a list\n",
    "institutions = list(institutions)\n",
    "#Get the number of institutions\n",
    "number_of_institutions = len(institutions)\n",
    "print('Number of institutions: %i' % number_of_institutions)\n",
    "#Output the list of institutions\n",
    "pd.DataFrame(institutions).to_csv('institutions.csv',index = False)\n",
    "#Get the number of projects\n",
    "number_of_projects = len(coordinators_participants)\n",
    "print('Number of projects: %i' % len(coordinators_participants))"
   ]
  },
  {
   "cell_type": "markdown",
   "metadata": {},
   "source": [
    "There are 1908 institutions and 384 projects. We now create the 1908 by 1908 undirected institution matrix. In the undirected institution matrix, the role of the institution (coordinator or partners) does not matter. We are only interested in seeing if the institution are in a project together. The entries of this matrix will be the number of projects the two institutions are in together."
   ]
  },
  {
   "cell_type": "code",
   "execution_count": 16,
   "metadata": {
    "collapsed": false
   },
   "outputs": [],
   "source": [
    "institution_matrix_undirected = np.zeros(shape=(number_of_institutions,number_of_institutions))"
   ]
  },
  {
   "cell_type": "markdown",
   "metadata": {},
   "source": [
    "Create the directed institution matrix. In the directed institution matrix, if an institution is a institution in a project coordinated by another \n",
    "institution, the matrix entry with the institution's row and coordinator's column is increased by one."
   ]
  },
  {
   "cell_type": "code",
   "execution_count": 17,
   "metadata": {
    "collapsed": true
   },
   "outputs": [],
   "source": [
    "institution_matrix_directed = np.zeros(shape=(number_of_institutions,number_of_institutions))"
   ]
  },
  {
   "cell_type": "markdown",
   "metadata": {},
   "source": [
    "Populate the matrices. "
   ]
  },
  {
   "cell_type": "code",
   "execution_count": 18,
   "metadata": {
    "collapsed": true
   },
   "outputs": [],
   "source": [
    "for reference, participants in coordinators_participants.iteritems():\n",
    "    #The first institution in the list is the coordinator.\n",
    "    #In the column of the coordinator, increase the value of the directed \n",
    "    #graph matrix by one at the row of each participant\n",
    "    for j in range(1,len(participants)):\n",
    "        institution_matrix_directed[institutions.index(participants[0])][institutions.index(participants[j])] = institution_matrix_directed[institutions.index(participants[0])][institutions.index(participants[j])] + 1\n",
    "    #For every participant in this project\n",
    "    for i in xrange(len(participants)):\n",
    "        #For every other participant\n",
    "        for j in xrange(i):\n",
    "            #Increase the intersecting row and column of the undirected matrix by 1\n",
    "            institution_matrix_undirected[institutions.index(participants[i])][institutions.index(participants[j])] = institution_matrix_undirected[institutions.index(participants[i])][institutions.index(participants[j])] + 1\n",
    "            institution_matrix_undirected[institutions.index(participants[j])][institutions.index(participants[i])] = institution_matrix_undirected[institutions.index(participants[j])][institutions.index(participants[i])] + 1\n",
    "\n",
    "#Output the directed and undirected matrix\n",
    "pd.DataFrame(institution_matrix_directed).to_csv('institution_matrix_directed.csv',index = False)\n",
    "pd.DataFrame(institution_matrix_undirected).to_csv('institution_matrix_undirected.csv',index = False)           "
   ]
  },
  {
   "cell_type": "markdown",
   "metadata": {},
   "source": [
    "Start calculating the degree values of participants. The degree of a participant is the number of connections it has with other participants."
   ]
  },
  {
   "cell_type": "code",
   "execution_count": 19,
   "metadata": {
    "collapsed": true
   },
   "outputs": [],
   "source": [
    "degree = []\n",
    "for i in xrange(number_of_institutions):\n",
    "    degree.append(int(sum(institution_matrix_undirected[i])))"
   ]
  },
  {
   "cell_type": "markdown",
   "metadata": {},
   "source": [
    "Calculate the average degree value of the graph "
   ]
  },
  {
   "cell_type": "code",
   "execution_count": 20,
   "metadata": {
    "collapsed": false
   },
   "outputs": [
    {
     "name": "stdout",
     "output_type": "stream",
     "text": [
      "Average connections 16.398: \n"
     ]
    }
   ],
   "source": [
    "total_connections = sum(degree)\n",
    "average_connections = total_connections/number_of_institutions\n",
    "print('Average connections %.3f: ' % average_connections)"
   ]
  },
  {
   "cell_type": "code",
   "execution_count": 48,
   "metadata": {
    "collapsed": false
   },
   "outputs": [
    {
     "data": {
      "image/png": "[encoded data removed]",
      "text/plain": [
       "<matplotlib.figure.Figure at 0xeeec710>"
      ]
     },
     "metadata": {},
     "output_type": "display_data"
    }
   ],
   "source": [
    "#Plot the histogram of degree\n",
    "plt.figure(1)\n",
    "plt.hist(degree,bins= 100, label = \"Degree\",histtype = \"step\", lw = 2)\n",
    "plt.xlabel('Degree')\n",
    "plt.ylabel('Frequency')\n",
    "plt.title('Degree (number of other institutions an intitution partners with)')\n",
    "plt.savefig('Degree histogram')"
   ]
  },
  {
   "cell_type": "markdown",
   "metadata": {},
   "source": [
    "Start calculating the clustering coefficient. Clustering coefficient measures how cliquish the institution is. It is a measure of the density of edges in the neighborhood of the institution (Zaki and Maira)."
   ]
  },
  {
   "cell_type": "code",
   "execution_count": 21,
   "metadata": {
    "collapsed": true
   },
   "outputs": [],
   "source": [
    "clustering_coefficient = []\n",
    "\n",
    "#For each participant\n",
    "for i in xrange(number_of_institutions):\n",
    "    neighbor_index = []    \n",
    "    number_of_neighbors = []\n",
    "    #For this participant, get the indices of its partners\n",
    "    for j in xrange(number_of_institutions):\n",
    "        if institution_matrix_undirected[i][j] > 0:\n",
    "            neighbor_index.append(j)\n",
    "    #For partner g of participant i, calculate the \n",
    "    #number of connections partner g has with the rest \n",
    "    #of the partners of participant i\n",
    "    for g in neighbor_index:\n",
    "        number_of_neighbors.append(sum(institution_matrix_undirected[g][neighbor_index] > 0))\n",
    "        #print(sum(institution_matrix_undirected[g][neighbor_index] > 0),sum(number_of_neighbors))\n",
    "    #Clustering coefficient equals the proportion of the connections among \n",
    "    #the partners of participant i to the total number of possible connections\n",
    "    #among the partners of participant i\n",
    "    if len(neighbor_index) < 3:\n",
    "        clustering_coefficient.append(0)\n",
    "    else:\n",
    "        clustering_coefficient.append(sum(number_of_neighbors)/(len(neighbor_index) * (len(neighbor_index) - 1)))    "
   ]
  },
  {
   "cell_type": "code",
   "execution_count": 50,
   "metadata": {
    "collapsed": false
   },
   "outputs": [
    {
     "data": {
      "image/png": "[encoded data removed]",
      "text/plain": [
       "<matplotlib.figure.Figure at 0xab5c2e8>"
      ]
     },
     "metadata": {},
     "output_type": "display_data"
    }
   ],
   "source": [
    "#Plot the histogram of clustering_coefficient\n",
    "plt.figure(2)\n",
    "plt.hist(clustering_coefficient,bins= 100, label = \"Clustering coefficient\",histtype = \"step\", lw = 2)\n",
    "plt.xlabel('Clustering coefficient')\n",
    "plt.ylabel('Frequency')\n",
    "plt.title('Clustering coefficient')\n",
    "plt.savefig('Clustering coefficient histogram')"
   ]
  },
  {
   "cell_type": "code",
   "execution_count": 22,
   "metadata": {
    "collapsed": false
   },
   "outputs": [
    {
     "name": "stdout",
     "output_type": "stream",
     "text": [
      "Average clustering coefficient: 0.853\n"
     ]
    }
   ],
   "source": [
    "#Calculate the average clustering coefficient.\n",
    "print('Average clustering coefficient: %.3f' % np.average(clustering_coefficient))"
   ]
  },
  {
   "cell_type": "markdown",
   "metadata": {},
   "source": [
    "Get the adjacency matrix adjacency matrix has a value of 1 if two participants have a connection and 0 otherwise."
   ]
  },
  {
   "cell_type": "code",
   "execution_count": 23,
   "metadata": {
    "collapsed": true
   },
   "outputs": [],
   "source": [
    "adjacence_matrix = np.zeros(shape=(number_of_institutions,number_of_institutions))\n",
    "\n",
    "#For each institution, set the value of the \n",
    "#entry to 1 if it is in the same project as\n",
    "#the other instituion\n",
    "for k in xrange(number_of_institutions):\n",
    "    for i in xrange(number_of_institutions):\n",
    "        if institution_matrix_undirected[k][i] > 0:\n",
    "            adjacence_matrix[k][i] = 1"
   ]
  },
  {
   "cell_type": "markdown",
   "metadata": {},
   "source": [
    "Start creating the distance matrix. The distance between the two institutions is the smallest number of institutions needed to be visited to get from the one to another in the network. The Floyd-Warshall algorithm iterates through the pairs of nodes (institutions) in the network to calculate the shortest path. The distance between the two institions is infinity if they are not in any projects together. An institution's distance between itself is zero. The Floyd-Warshall algorithm implementation here is from Wikipedia entry: https://en.wikipedia.org/wiki/Floyd%E2%80%93Warshall_algorithm"
   ]
  },
  {
   "cell_type": "code",
   "execution_count": 24,
   "metadata": {
    "collapsed": true
   },
   "outputs": [],
   "source": [
    "distance_matrix = np.ones(shape=(number_of_institutions,number_of_institutions))\n",
    "#Set all distance values to infinity.  \n",
    "for i in xrange(number_of_institutions):\n",
    "    for j in xrange(number_of_institutions):\n",
    "        distance_matrix[i][j] = np.inf\n",
    "\n",
    "next_matrix = np.ones(shape=(number_of_institutions,number_of_institutions))\n",
    "#Set all distance values to null.  \n",
    "for i in xrange(number_of_institutions):\n",
    "    for j in xrange(number_of_institutions):\n",
    "        next_matrix[i][j] = np.nan\n",
    "\n",
    "#Set all distances to self to 0\n",
    "for i in xrange(number_of_institutions):\n",
    "    distance_matrix[i][i] = 0    \n",
    "\n",
    "#If two institutions are in the same project, their distance is one    \n",
    "for i in xrange(number_of_institutions):\n",
    "    for j in xrange(number_of_institutions):\n",
    "        if adjacence_matrix[i][j] > 0:\n",
    "            distance_matrix[i][j] = adjacence_matrix[i][j]\n",
    "            next_matrix[i][j] = j"
   ]
  },
  {
   "cell_type": "markdown",
   "metadata": {},
   "source": [
    "Run the Floyd-Warshall algorithm. This takes about 2.50 hours. "
   ]
  },
  {
   "cell_type": "code",
   "execution_count": null,
   "metadata": {
    "collapsed": true
   },
   "outputs": [],
   "source": [
    "for k in xrange(number_of_institutions):\n",
    "    for i in xrange(number_of_institutions):\n",
    "        for j in xrange(number_of_institutions):\n",
    "            if distance_matrix[i][j] > distance_matrix[i][k] + distance_matrix[k][j]:\n",
    "                distance_matrix[i][j] = distance_matrix[i][k] + distance_matrix[k][j]"
   ]
  },
  {
   "cell_type": "markdown",
   "metadata": {},
   "source": [
    "Check to see if there are any infinate distances."
   ]
  },
  {
   "cell_type": "code",
   "execution_count": 43,
   "metadata": {
    "collapsed": false
   },
   "outputs": [
    {
     "name": "stdout",
     "output_type": "stream",
     "text": [
      "Number of infinite distances: 47283\n"
     ]
    }
   ],
   "source": [
    "print('Number of infinite distances: %.0f' % (len(np.ravel(distance_matrix)[(np.ravel(distance_matrix) == np.inf)])/2))"
   ]
  },
  {
   "cell_type": "markdown",
   "metadata": {},
   "source": [
    "The largest distance between any two nodes in the network is the diameter of the network. The diameter of the network is infinate."
   ]
  },
  {
   "cell_type": "code",
   "execution_count": 42,
   "metadata": {
    "collapsed": false
   },
   "outputs": [
    {
     "name": "stdout",
     "output_type": "stream",
     "text": [
      "Maximum distance between any two nodes in the graph: 7\n"
     ]
    }
   ],
   "source": [
    "#Print the maximum distance (excluding infinite distances)\n",
    "print('Maximum distance between any two nodes in the graph: %.0f' % (max(np.ravel(distance_matrix)[(np.ravel(distance_matrix) != np.inf)])))"
   ]
  },
  {
   "cell_type": "markdown",
   "metadata": {},
   "source": [
    "Plot the histogram of the distances, ignore 0 and infinite distances"
   ]
  },
  {
   "cell_type": "code",
   "execution_count": 56,
   "metadata": {
    "collapsed": false
   },
   "outputs": [
    {
     "data": {
      "image/png": "[encoded data removed]",
      "text/plain": [
       "<matplotlib.figure.Figure at 0x17facdd8>"
      ]
     },
     "metadata": {},
     "output_type": "display_data"
    }
   ],
   "source": [
    "plt.figure(3)\n",
    "plt.hist(np.ravel(distance_matrix)[((np.ravel(distance_matrix) != np.inf) & (np.ravel(distance_matrix) != 0))], label = \"Distances (0 and infinite distances not included)\", lw = 2)\n",
    "plt.xlabel(\"Distance between two institutions\")\n",
    "plt.ylabel(\"Frequency\")\n",
    "plt.title('Distances, (excludes 0 and infinite values)')\n",
    "plt.savefig('Distance histogram')"
   ]
  },
  {
   "cell_type": "markdown",
   "metadata": {},
   "source": [
    "Start calculating the average path length of the graph. Infinite distances (distances between two participants who do not collaborate in any project) are excluded from the calculation."
   ]
  },
  {
   "cell_type": "code",
   "execution_count": 57,
   "metadata": {
    "collapsed": false
   },
   "outputs": [
    {
     "name": "stdout",
     "output_type": "stream",
     "text": [
      "Average distance between any two nodes, excluding infinite distances: 3.135\n",
      "Log of number of institutions: 7.554 \n"
     ]
    }
   ],
   "source": [
    "total_distance = 0\n",
    "counter = 0\n",
    "for i in xrange(number_of_institutions):\n",
    "    for j in xrange(i):\n",
    "        if distance_matrix[i][j] != np.inf:\n",
    "            total_distance = total_distance + distance_matrix[i][j]\n",
    "            counter = counter + 1    \n",
    "average_distance = total_distance/counter\n",
    "\n",
    "#Average distance\n",
    "print('Average distance between any two nodes, excluding infinite distances: %.3f' % average_distance)\n",
    "#Number of institutions\n",
    "print('Log of number of institutions: %.3f ' % np.log(number_of_institutions))"
   ]
  },
  {
   "cell_type": "markdown",
   "metadata": {},
   "source": [
    "Start calculating the eccentricity of participants. The eccentricity of a participant is the maximum distance it has with any other participant. We ignore the infinite distances when calculating eccentricity."
   ]
  },
  {
   "cell_type": "code",
   "execution_count": 58,
   "metadata": {
    "collapsed": true
   },
   "outputs": [],
   "source": [
    "eccentricity = []\n",
    "for k in xrange(number_of_institutions):\n",
    "    eccentricity.append(max(distance_matrix[k][(distance_matrix[k] != np.inf)]))"
   ]
  },
  {
   "cell_type": "code",
   "execution_count": 59,
   "metadata": {
    "collapsed": false
   },
   "outputs": [
    {
     "data": {
      "image/png": "[encoded data removed]",
      "text/plain": [
       "<matplotlib.figure.Figure at 0xf543240>"
      ]
     },
     "metadata": {},
     "output_type": "display_data"
    }
   ],
   "source": [
    "#Plot the histogram of eccentricities\n",
    "plt.figure(4)\n",
    "plt.hist(eccentricity, lw = 2)\n",
    "plt.xlabel(\"Eccentricity score\")\n",
    "plt.ylabel(\"Frequency\")\n",
    "plt.title(\"Eccentricity score\")\n",
    "plt.savefig('Eccentricity histogram')"
   ]
  },
  {
   "cell_type": "markdown",
   "metadata": {},
   "source": [
    "Calculate the diameter of the graph. The diameter is the maximum eccentricity among the participants."
   ]
  },
  {
   "cell_type": "code",
   "execution_count": 60,
   "metadata": {
    "collapsed": false
   },
   "outputs": [
    {
     "name": "stdout",
     "output_type": "stream",
     "text": [
      "Diameter of the graph: 7.000\n"
     ]
    }
   ],
   "source": [
    "diameter = max(eccentricity)\n",
    "print('Diameter of the graph: %.3f' % diameter)"
   ]
  },
  {
   "cell_type": "markdown",
   "metadata": {},
   "source": [
    "Calculate the efficiency of the graph. The efficiency of the graph is found by the average efficiency of all pairs of nodes. The efficiency of a pair of nodes is the inverse of the distance between them. The smaller the distance, the more 'efficient' the communication between them. If there is no connectio between two nodes, the efficiency between them is 0, as the distance between them is infinite."
   ]
  },
  {
   "cell_type": "code",
   "execution_count": 46,
   "metadata": {
    "collapsed": false
   },
   "outputs": [
    {
     "name": "stdout",
     "output_type": "stream",
     "text": [
      "Efficiency: 0.332\n"
     ]
    }
   ],
   "source": [
    "efficiency = 0\n",
    "for i in xrange(number_of_institutions):\n",
    "    for j in xrange(i):\n",
    "        efficiency = efficiency + 1/distance_matrix[i][j]\n",
    "efficiency = 2 * efficiency / (number_of_institutions * (number_of_institutions - 1))\n",
    "\n",
    "print('Efficiency: %.3f' % efficiency)"
   ]
  },
  {
   "cell_type": "markdown",
   "metadata": {},
   "source": [
    "We will calculate the authority and hub score of participants. Authorithy is a measure of how many good institutions it coordinates. A coordinator with a high authority coordinates many hub participants. In the directed adjacency matrix. Hub score is a measure of how many good participants it is coordinated by. A participant with a high hub score is coordinated by participants with high authority. We use the directed adjacency matrix to calculate the authority and hub scores. "
   ]
  },
  {
   "cell_type": "code",
   "execution_count": 47,
   "metadata": {
    "collapsed": true
   },
   "outputs": [],
   "source": [
    "adjacency_matrix_directed = np.zeros(shape=(number_of_institutions,number_of_institutions))\n",
    "\n",
    "for i in xrange(number_of_institutions):\n",
    "    for j in xrange(number_of_institutions):\n",
    "        if institution_matrix_directed[i][j] >= 1:\n",
    "            adjacency_matrix_directed[i][j] = 1 "
   ]
  },
  {
   "cell_type": "markdown",
   "metadata": {},
   "source": [
    "Calculate the indegree of institutions. The indegree is the number of participant an institution coordinates."
   ]
  },
  {
   "cell_type": "code",
   "execution_count": 48,
   "metadata": {
    "collapsed": true
   },
   "outputs": [],
   "source": [
    "indegree = []\n",
    "for i in xrange(number_of_institutions):\n",
    "    indegree.append(sum(np.transpose(institution_matrix_directed)[i]))"
   ]
  },
  {
   "cell_type": "code",
   "execution_count": 49,
   "metadata": {
    "collapsed": false
   },
   "outputs": [
    {
     "data": {
      "image/png": "[encoded data removed]",
      "text/plain": [
       "<matplotlib.figure.Figure at 0xa886eb8>"
      ]
     },
     "metadata": {},
     "output_type": "display_data"
    }
   ],
   "source": [
    "#Plot the histogram of indegree\n",
    "plt.figure(5)\n",
    "plt.hist(indegree,bins= 100, label = \"Indegree\",histtype = \"step\", lw = 2)\n",
    "plt.xlabel('Indegree')\n",
    "plt.ylabel('Frequency')\n",
    "plt.title('Indegree (number of other institutions an intitution coordinates)')\n",
    "plt.savefig('Indegree histogram')"
   ]
  },
  {
   "cell_type": "code",
   "execution_count": 50,
   "metadata": {
    "collapsed": true
   },
   "outputs": [],
   "source": [
    "#Set a threshold for convergence\n",
    "threshold = 0.001\n",
    "#Create the hub score list\n",
    "h_convergence_list = []\n",
    "#Create the authority score list\n",
    "a_convergence_list = []\n",
    "#Set converged to False\n",
    "converged = False\n",
    "#Set the initial authority scores to one.\n",
    "a_new = np.ones(number_of_institutions)\n",
    "#Set the initial hub scores to one.\n",
    "h_new = np.ones(number_of_institutions)\n",
    "while not converged:\n",
    "    h_old = h_new    \n",
    "    a_old = a_new\n",
    "    h_max_old = np.max(h_old)\n",
    "    a_max_old = np.max(a_old)\n",
    "    h_new = np.dot(adjacency_matrix_directed, a_old)\n",
    "    h_new = h_new/max(h_new)\n",
    "    a_new = np.dot(np.transpose(adjacency_matrix_directed), h_new)\n",
    "    a_new = a_new/max(a_new)\n",
    "    a_convergence = np.sqrt(sum(np.power((a_new - a_old),2)))\n",
    "    h_convergence = np.sqrt(sum(np.power((h_new - h_old),2)))\n",
    "    if a_convergence < threshold and h_convergence < threshold:\n",
    "        converged = True\n",
    "    h_convergence_list.append(h_convergence)\n",
    "    a_convergence_list.append(a_convergence)  "
   ]
  },
  {
   "cell_type": "code",
   "execution_count": 51,
   "metadata": {
    "collapsed": false
   },
   "outputs": [
    {
     "data": {
      "image/png": "[encoded data removed]",
      "text/plain": [
       "<matplotlib.figure.Figure at 0xb5f01d0>"
      ]
     },
     "metadata": {},
     "output_type": "display_data"
    }
   ],
   "source": [
    "plt.figure(6)\n",
    "plt.scatter(range(0,len(h_convergence_list[1:])),h_convergence_list[1:])    \n",
    "plt.xlim([0,(len(h_convergence_list[1:]) + 1)])\n",
    "plt.ylim([0,(max(h_convergence_list[1:]) + 1)])\n",
    "plt.xlabel(\"Iteration\")\n",
    "plt.ylabel(\"Norm of Hub vector difference between iterations\")\n",
    "plt.title(\"Hub score calculation convergence\")\n",
    "plt.savefig('Hub scores')"
   ]
  },
  {
   "cell_type": "code",
   "execution_count": 52,
   "metadata": {
    "collapsed": false
   },
   "outputs": [
    {
     "data": {
      "image/png": "[encoded data removed]",
      "text/plain": [
       "<matplotlib.figure.Figure at 0x18b37668>"
      ]
     },
     "metadata": {},
     "output_type": "display_data"
    }
   ],
   "source": [
    "plt.figure(7)\n",
    "plt.scatter(range(0,len(a_convergence_list[1:])),a_convergence_list[1:])\n",
    "plt.xlim([0,(len(a_convergence_list[1:]) + 1)])\n",
    "plt.ylim([0,(max(a_convergence_list[1:]) + 1)])\n",
    "plt.xlabel(\"Iteration\")\n",
    "plt.ylabel(\"Norm of Authority vector difference between iterations\")\n",
    "plt.title(\"Authority score calculation convergence\")\n",
    "plt.savefig('Authority scores')\n"
   ]
  },
  {
   "cell_type": "markdown",
   "metadata": {},
   "source": [
    "Start calculating the prestige score. From Zaki and Meira: \"As a centrality, prestige is supposed to be a measure of the importance or rank of a node. Intuitively the more the links that point to a given node, the higher its prestige. However, prestige does not depend simply on the indegree; it also (recursively) depends on the prestige of the nodes that point to it.\""
   ]
  },
  {
   "cell_type": "code",
   "execution_count": 53,
   "metadata": {
    "collapsed": true
   },
   "outputs": [],
   "source": [
    "prestige_old = np.ones(number_of_institutions)\n",
    "#Create the eigenvalue list\n",
    "eigenvalue_list = []\n",
    "converged = False\n",
    "while not converged:\n",
    "    #Get the maximum of the prestige vector\n",
    "    max_old = max(prestige_old)  \n",
    "    #Update the prestige estimates\n",
    "    prestige_new = np.dot(np.transpose(adjacency_matrix_directed),prestige_old)    \n",
    "    #Get the new maximum of the prestige vector    \n",
    "    max_new = max(prestige_new)\n",
    "    #Get an estimate of the eigenvalue\n",
    "    eigenvalue = max_new / max_old\n",
    "    #Add the eigenvalue estimate to the list\n",
    "    eigenvalue_list.append(eigenvalue)\n",
    "    #Scale the prestige vector to prevent overflow\n",
    "    prestige_new = prestige_new / max(prestige_new)\n",
    "    #If the norm of the difference between the new and the old \n",
    "    #prestige vector is smaller than the threshold, stop the iterations\n",
    "    if np.sqrt(sum(np.power((prestige_new - prestige_old),2))) < threshold:\n",
    "        converged = True\n",
    "    #Update the old prestige vector    \n",
    "    prestige_old = prestige_new"
   ]
  },
  {
   "cell_type": "code",
   "execution_count": 54,
   "metadata": {
    "collapsed": false,
    "scrolled": true
   },
   "outputs": [
    {
     "data": {
      "image/png": "[encoded data removed]",
      "text/plain": [
       "<matplotlib.figure.Figure at 0xb5db240>"
      ]
     },
     "metadata": {},
     "output_type": "display_data"
    }
   ],
   "source": [
    "plt.figure(8)\n",
    "plt.scatter(range(0,len(eigenvalue_list[1:])),eigenvalue_list[1:])\n",
    "plt.xlim([0,(len(eigenvalue_list[1:]) + 1)])\n",
    "plt.ylim([0,(max(eigenvalue_list[1:]) + 1)])\n",
    "plt.xlabel('Iteration')\n",
    "plt.ylabel('Eigenvalue estimate')\n",
    "plt.title(\"Prestige vector eigenvalue convergence\")\n",
    "plt.savefig('Prestige scores')"
   ]
  },
  {
   "cell_type": "markdown",
   "metadata": {},
   "source": [
    "Check to see if the probability of having degree k in the network follows a power law, which indicates that the overwhelming majority of nodes have very small degrees and the remaining more central nodes have very high degrees."
   ]
  },
  {
   "cell_type": "code",
   "execution_count": 55,
   "metadata": {
    "collapsed": false
   },
   "outputs": [
    {
     "name": "stdout",
     "output_type": "stream",
     "text": [
      "Maximum degree: 483\n"
     ]
    }
   ],
   "source": [
    "#Calculate the degree frequency distribution\n",
    "max_degree = max(degree)\n",
    "\n",
    "degree = np.array(degree)\n",
    "print('Maximum degree: %i' % max_degree)"
   ]
  },
  {
   "cell_type": "code",
   "execution_count": 56,
   "metadata": {
    "collapsed": true
   },
   "outputs": [],
   "source": [
    "frequency = []\n",
    "cumulative_frequency = []\n",
    "for i in xrange(max_degree):\n",
    "    frequency.append(len(degree[(degree == (i + 1))]))\n",
    "\n",
    "#Calculate the degree cumulative frequency distribution\n",
    "cumulative_frequency.append(frequency[0])\n",
    "for i in range(1,max_degree):\n",
    "    cumulative_frequency.append((cumulative_frequency[i - 1] + frequency[i]))\n",
    "\n",
    "cumulative_probability = np.array(cumulative_frequency)/max(cumulative_frequency)\n",
    "\n",
    "#Calculate the log of complementary probability, exclude 0 and 1 values\n",
    "log_complementary_cumulative_probability = np.log(1 - cumulative_probability[((cumulative_probability != 1) & (cumulative_probability != 0))])\n",
    "log_degree = np.log(np.array(range(1,max_degree)))"
   ]
  },
  {
   "cell_type": "code",
   "execution_count": 75,
   "metadata": {
    "collapsed": false
   },
   "outputs": [
    {
     "data": {
      "image/png": "[encoded data removed]",
      "text/plain": [
       "<matplotlib.figure.Figure at 0xe0d6390>"
      ]
     },
     "metadata": {},
     "output_type": "display_data"
    }
   ],
   "source": [
    "plt.figure(9)\n",
    "plt.scatter(log_degree,log_complementary_cumulative_probability)\n",
    "plt.xlabel(\"log(k) (log Degree)\")\n",
    "plt.ylabel(\"Complementary cumulative probability of having at least log(k) degree\")\n",
    "plt.title(\"Complementary cumulative probability of log degree values\")\n",
    "plt.xlim([0, np.round(max(log_degree) + 1)])\n",
    "#Fit a linear model to data\n",
    "frequency_model = linear_model.LinearRegression()\n",
    "log_degree = np.reshape(log_degree,(len(log_degree),1))\n",
    "frequency_model.fit(log_degree,log_complementary_cumulative_probability)\n",
    "predictions = frequency_model.predict(log_degree)\n",
    "coef = frequency_model.coef_\n",
    "standard_error = np.sqrt(np.sum(np.power(log_complementary_cumulative_probability - predictions,2))/(len(log_degree) - 1))\n",
    "t_value = coef/standard_error\n",
    "p_value = 1 - t.sf(t_value, len(log_degree) - 1)\n",
    "plt.plot(log_degree,predictions, color='blue', linewidth=3)\n",
    "plt.savefig('Log degree vs complementary cumulative probability')"
   ]
  },
  {
   "cell_type": "code",
   "execution_count": 76,
   "metadata": {
    "collapsed": false
   },
   "outputs": [
    {
     "name": "stdout",
     "output_type": "stream",
     "text": [
      "('Line coefficient: -1.882: ', 't score: -5.120 ', 'p-value: 0.00000')\n"
     ]
    }
   ],
   "source": [
    "print('Line coefficient: %.3f: ' % coef,'t score: %.3f ' % t_value,'p-value: %.5f' % p_value)"
   ]
  },
  {
   "cell_type": "markdown",
   "metadata": {},
   "source": [
    "The p-value indicates that the coefficient of the linear model is statistically significantly different from zero, and that the complementary probability of having at least k degrees decreases as the log of k increases. The network exhibits a power-law relationship, where most of the institutions partner with a few other institutions and a smaller number of them have a large number of partnerships."
   ]
  },
  {
   "cell_type": "code",
   "execution_count": 77,
   "metadata": {
    "collapsed": false
   },
   "outputs": [
    {
     "data": {
      "image/png": "[encoded data removed]",
      "text/plain": [
       "<matplotlib.figure.Figure at 0xa729780>"
      ]
     },
     "metadata": {},
     "output_type": "display_data"
    }
   ],
   "source": [
    "plt.figure(10)\n",
    "plt.scatter(range(1,max(degree) + 1),cumulative_probability)\n",
    "plt.xlabel(\"Degree (k))\")\n",
    "plt.ylabel(\"Cumulative probability of having at least k degree\")\n",
    "plt.title(\"Cumulative probability of Degree values\")\n",
    "plt.xlim([1, max(degree) + 1])\n",
    "plt.ylim([0, 1])\n",
    "plt.savefig('Degree vs cumulative probability')"
   ]
  },
  {
   "cell_type": "markdown",
   "metadata": {},
   "source": [
    "The high average clustering coefficient indicates that if two institutions participate in projects in a third institution, those two institutions are also likely to participate in a project. Another way to look at the clustering property of a network is to fir a linear model to the log-log plot of degree k vs. average clustering coefficient of nodes with the degree k and see if the linear model is significant."
   ]
  },
  {
   "cell_type": "code",
   "execution_count": 97,
   "metadata": {
    "collapsed": false
   },
   "outputs": [],
   "source": [
    "clustering_coefficient = np.array(clustering_coefficient)\n",
    "average_clustering_coefficient = []\n",
    "degree_clusters = []\n",
    "for i in xrange(max_degree):\n",
    "    if len(clustering_coefficient[(degree == i + 1)]) != 0:\n",
    "        average_clustering_coefficient.append(np.average(clustering_coefficient[(degree == i + 1)]))\n",
    "        degree_clusters.append((i + 1))\n",
    "\n",
    "log_degree_clusters = np.log(degree_clusters)[2:]\n",
    "log_average_clustering_coefficient = np.log(average_clustering_coefficient)[2:]"
   ]
  },
  {
   "cell_type": "code",
   "execution_count": 95,
   "metadata": {
    "collapsed": false
   },
   "outputs": [
    {
     "data": {
      "text/plain": [
       "[<matplotlib.lines.Line2D at 0xb8024e0>]"
      ]
     },
     "execution_count": 95,
     "metadata": {},
     "output_type": "execute_result"
    },
    {
     "data": {
      "image/png": "[encoded data removed]",
      "text/plain": [
       "<matplotlib.figure.Figure at 0xbaaac88>"
      ]
     },
     "metadata": {},
     "output_type": "display_data"
    }
   ],
   "source": [
    "plt.figure(11)\n",
    "plt.scatter(log_degree_clusters,log_average_clustering_coefficient)\n",
    "plt.xlabel(\"Log Degree\")\n",
    "plt.ylabel(\"Log average clustering coefficient\")\n",
    "plt.title(\"Log average clustering coefficient vs log degree\")\n",
    "plt.xlim([1, max(log_degree_clusters) + 1])\n",
    "plt.ylim([min(log_average_clustering_coefficient),0])     \n",
    "plt.savefig('Log average clustering coefficient vs log degree')\n",
    "\n",
    "#Fit a linear model to data\n",
    "cluster_model = linear_model.LinearRegression()\n",
    "log_degree_clusters = np.reshape(log_degree_clusters,(len(log_degree_clusters),1))\n",
    "cluster_model.fit(log_degree_clusters,log_average_clustering_coefficient)\n",
    "predictions = cluster_model.predict(log_degree_clusters)\n",
    "coef = cluster_model.coef_\n",
    "standard_error = np.sqrt(np.sum(np.power(log_average_clustering_coefficient - predictions,2))/(len(log_degree_clusters) - 1))\n",
    "t_value = coef/standard_error\n",
    "p_value = 1 - t.sf(t_value, len(degree_clusters) - 1)\n",
    "plt.plot(log_degree_clusters,predictions, color='blue', linewidth=3)"
   ]
  },
  {
   "cell_type": "code",
   "execution_count": 96,
   "metadata": {
    "collapsed": false
   },
   "outputs": [
    {
     "name": "stdout",
     "output_type": "stream",
     "text": [
      "('Line coefficient: -0.713: ', 't score: -2.518 ', 'p-value: 0.00669')\n"
     ]
    }
   ],
   "source": [
    "print('Line coefficient: %.3f: ' % coef,'t score: %.3f ' % t_value,'p-value: %.5f' % p_value)"
   ]
  },
  {
   "cell_type": "markdown",
   "metadata": {},
   "source": [
    "The p-value indicates that the network exhibits a clustering effect, indicating that nodes with small number of degrees tend to participate in projects mostly with a specific group of institutions, and institutions with high degrees participate in projects of different clusters."
   ]
  },
  {
   "cell_type": "code",
   "execution_count": 76,
   "metadata": {
    "collapsed": false
   },
   "outputs": [],
   "source": [
    "#Output the degree scores \n",
    "degree = pd.DataFrame.from_items([('Institution',institutions),('Degree',degree)])\n",
    "degree = degree.sort_values(by = 'Degree', axis = 0, ascending = False)\n",
    "pd.DataFrame(degree).to_csv('degree_scores.csv',index = False)   \n",
    "\n",
    "#Output the indegree scores \n",
    "indegree = pd.DataFrame.from_items([('Institution',institutions),('Indegree',indegree)])\n",
    "indegree = indegree.sort_values(by = 'Indegree', axis = 0, ascending = False)\n",
    "pd.DataFrame(indegree).to_csv('indegree_scores.csv',index = False)\n",
    "\n",
    "#Output the clustering coefficient scores \n",
    "clustering_coefficient = pd.DataFrame.from_items([('Institution',institutions),('Clustering_coefficient',clustering_coefficient)])\n",
    "clustering_coefficient = clustering_coefficient.sort_values(by = 'Clustering_coefficient', axis = 0, ascending = False)\n",
    "pd.DataFrame(clustering_coefficient).to_csv('clustering_coefficient_scores.csv',index = False)  \n",
    "\n",
    "#Output the eccentricity scores\n",
    "eccentricity = pd.DataFrame.from_items([('Institution',institutions),('Eccentricity',eccentricity)])\n",
    "eccentricity = eccentricity.sort_values(by = 'Eccentricity', axis = 0, ascending = False)\n",
    "pd.DataFrame(eccentricity).to_csv('eccentricity_scores.csv',index = False)\n",
    "\n",
    "#Output the hub scores\n",
    "hub_scores = pd.DataFrame.from_items([('Institution',institutions),('Hub_scores',h_new)])\n",
    "hub_scores = hub_scores.sort_values(by = 'Hub_scores', axis = 0, ascending = False)\n",
    "pd.DataFrame(hub_scores).to_csv('hub_scores.csv',index = False)\n",
    "\n",
    "#Output the authority scores\n",
    "authority_scores = pd.DataFrame.from_items([('Institution',institutions),('Authority_scores',a_new)])\n",
    "authority_scores = authority_scores.sort_values(by = 'Authority_scores', axis = 0, ascending = False)\n",
    "pd.DataFrame(authority_scores).to_csv('authority_scores.csv',index = False)\n",
    "\n",
    "#Output the Prestige scores\n",
    "prestige_scores = pd.DataFrame.from_items([('Institution',institutions),('Prestige_scores',prestige_new)])\n",
    "prestige_scores = prestige_scores.sort_values(by = 'Prestige_scores', axis = 0, ascending = False)\n",
    "pd.DataFrame(prestige_scores).to_csv('prestige_scores.csv',index = False)"
   ]
  },
  {
   "cell_type": "code",
   "execution_count": 77,
   "metadata": {
    "collapsed": false
   },
   "outputs": [
    {
     "name": "stdout",
     "output_type": "stream",
     "text": [
      "Degree scores\n",
      "                                            Institution  Degree\n",
      "739   FRAUNHOFER-GESELLSCHAFT ZUR FOERDERUNG DER ANG...     483\n",
      "1436  COMMISSARIAT A L ENERGIE ATOMIQUE ET AUX ENERG...     328\n",
      "786                                       ATOS SPAIN SA     247\n",
      "1010           TELEFONICA INVESTIGACION Y DESARROLLO SA     186\n",
      "981                                           ORANGE SA     178\n",
      "Indegree scores\n",
      "                                            Institution  Indegree\n",
      "739   FRAUNHOFER-GESELLSCHAFT ZUR FOERDERUNG DER ANG...      46.0\n",
      "1436  COMMISSARIAT A L ENERGIE ATOMIQUE ET AUX ENERG...      23.0\n",
      "1497       CENTRE NATIONAL DE LA RECHERCHE SCIENTIFIQUE      20.0\n",
      "1082                                  IBM RESEARCH GMBH      17.0\n",
      "1010           TELEFONICA INVESTIGACION Y DESARROLLO SA      16.0\n",
      "Clustering coefficient scores\n",
      "                                      Institution  Clustering_coefficient\n",
      "0                    THE DCU RYAN ACADEMY LIMITED                     1.0\n",
      "1164                               CELLIX LIMITED                     1.0\n",
      "1176                      THE WIKIRATE PROJECT EV                     1.0\n",
      "1175                STMICROELECTRONICS (ALPS) SAS                     1.0\n",
      "1174  BYTEMOBILE EUROPEAN DEVELOPMENT CENTER MEPE                     1.0\n",
      "Eccentricity scores\n",
      "                                            Institution  Eccentricity\n",
      "1345                             ETHNIKO IDRYMA EREVNON           7.0\n",
      "995   TECHNOLOGICKE CENTRUM AKADEMIE VED CESKE REPUB...           7.0\n",
      "1423                               UNIVERSITY OF ULSTER           7.0\n",
      "202                                          AIXTRON SE           7.0\n",
      "205                                     EFPC ( UK ) LTD           7.0\n",
      "Prestige scores\n",
      "                                            Institution  Prestige_scores\n",
      "739   FRAUNHOFER-GESELLSCHAFT ZUR FOERDERUNG DER ANG...         1.000000\n",
      "1497       CENTRE NATIONAL DE LA RECHERCHE SCIENTIFIQUE         0.851747\n",
      "1082                                  IBM RESEARCH GMBH         0.714029\n",
      "341                           UNIVERSITY OF SOUTHAMPTON         0.651447\n",
      "1318                          UNIVERSITY COLLEGE LONDON         0.630882\n",
      "Authority scores\n",
      "                                            Institution  Authority_scores\n",
      "739   FRAUNHOFER-GESELLSCHAFT ZUR FOERDERUNG DER ANG...          1.000000\n",
      "1082                                  IBM RESEARCH GMBH          0.905495\n",
      "341                           UNIVERSITY OF SOUTHAMPTON          0.721588\n",
      "1497       CENTRE NATIONAL DE LA RECHERCHE SCIENTIFIQUE          0.706971\n",
      "1318                          UNIVERSITY COLLEGE LONDON          0.661271\n",
      "Hub scores\n",
      "                                            Institution  Hub_scores\n",
      "739   FRAUNHOFER-GESELLSCHAFT ZUR FOERDERUNG DER ANG...    1.000000\n",
      "1436  COMMISSARIAT A L ENERGIE ATOMIQUE ET AUX ENERG...    0.990819\n",
      "786                                       ATOS SPAIN SA    0.393404\n",
      "198   CONSORZIO NAZIONALE INTERUNIVERSITARIO PER LE ...    0.357487\n",
      "708     INTERUNIVERSITAIR MICRO-ELECTRONICA CENTRUM VZW    0.243344\n"
     ]
    }
   ],
   "source": [
    "#Print the institutions with the highest degree, indegree, \n",
    "#clustering coefficient, eccentricity, prestige, \n",
    "#authority and hub scores.\n",
    "print('Degree scores')\n",
    "print(degree.head())\n",
    "\n",
    "print('Indegree scores')\n",
    "print(indegree.head())\n",
    "\n",
    "print('Clustering coefficient scores')\n",
    "print(clustering_coefficient.head())\n",
    "\n",
    "print('Eccentricity scores')\n",
    "print(eccentricity.head())\n",
    "\n",
    "print('Prestige scores')\n",
    "print(prestige_scores.head())\n",
    "\n",
    "print('Authority scores')\n",
    "print(authority_scores.head())\n",
    "\n",
    "print('Hub scores')\n",
    "print(hub_scores.head())"
   ]
  },
  {
   "cell_type": "code",
   "execution_count": null,
   "metadata": {
    "collapsed": true
   },
   "outputs": [],
   "source": []
  }
 ],
 "metadata": {
  "kernelspec": {
   "display_name": "Python 2",
   "language": "python",
   "name": "python2"
  },
  "language_info": {
   "codemirror_mode": {
    "name": "ipython",
    "version": 2
   },
   "file_extension": ".py",
   "mimetype": "text/x-python",
   "name": "python",
   "nbconvert_exporter": "python",
   "pygments_lexer": "ipython2",
   "version": "2.7.12"
  }
 },
 "nbformat": 4,
 "nbformat_minor": 0
}
